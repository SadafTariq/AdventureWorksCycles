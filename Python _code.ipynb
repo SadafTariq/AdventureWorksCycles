{
 "cells": [
  {
   "cell_type": "code",
   "execution_count": null,
   "metadata": {},
   "outputs": [],
   "source": [
    "import pyodbc\n",
    "import matplotlib.pyplot as plt\n",
    "import pandas as pd\n",
    "import numpy as np\n",
    "import seaborn as sns\n",
    "\n",
    "\n",
    "conn = pyodbc.connect('Driver={SQL Server};'\n",
    "                      'Server=DESKTOP-E4A84L5;'\n",
    "                      'Database=AdventureWorks2019;'\n",
    "                      'Trusted_Connection=yes;')  "
   ]
  },
  {
   "attachments": {},
   "cell_type": "markdown",
   "metadata": {},
   "source": [
    "What is the relationship between Country and Revenue?"
   ]
  },
  {
   "cell_type": "code",
   "execution_count": null,
   "metadata": {},
   "outputs": [],
   "source": [
    "\n",
    "df=pd.read_sql_query('select cr.Name,sum(SalesLastYear) as Totalsaleslastyear ,sum(SalesYTD) as totalsalesYTD FROM sales.SalesTerritory inner join  person.CountryRegion as cr on cr.CountryRegionCode  = sales.SalesTerritory.CountryRegionCode group by cr.Name',conn)\n",
    "width=0.35\n",
    "x = np.arange(len(df.Name))\n",
    "fig,ax = plt.subplots()\n",
    "rects1 = ax.bar(x - width/2, df.Totalsaleslastyear, width, label='Last Year Sale')\n",
    "rects2 = ax.bar(x + width/2 , df.totalsalesYTD, width, label='Sale To Date',color='gray')\n",
    "ax.set_ylabel('Revenue Generated')\n",
    "\n",
    "ax.set_title(\"Country Vs Revenue\")\n",
    "ax.set_xticks(x, df.Name,rotation=0)\n",
    "ax.legend()\n",
    "fig.tight_layout()\n",
    "plt.show()"
   ]
  },
  {
   "cell_type": "code",
   "execution_count": null,
   "metadata": {},
   "outputs": [],
   "source": [
    "\n",
    "df=pd.read_sql_query('select cr.Name,sum(SalesLastYear) as Totalsaleslastyear ,sum(SalesYTD) as totalsalesYTD FROM sales.SalesTerritory inner join  person.CountryRegion as cr on cr.CountryRegionCode  = sales.SalesTerritory.CountryRegionCode group by cr.Name',conn)\n",
    "#print(df)\n",
    "colours = [\"dimgrey\",\"wheat\", \"darkgrey\",\"tan\", \"whitesmoke\", \"lightsteelblue\"]\n",
    "plt.figure(figsize=(7,7))\n",
    "plt.pie(df.Totalsaleslastyear, labels=df.Name, autopct='%1.1f%%', colors=colours)\n",
    "central_circle = plt.Circle((0, 0), 0.4, color='white')\n",
    "fig = plt.gcf()\n",
    "fig.gca().add_artist(central_circle)\n",
    "plt.rc('font', size=12)\n",
    "plt.title(\"Last year Revenue\",fontsize =20)\n",
    "plt.show()\n",
    "\n",
    "plt.figure(figsize=(7,7))\n",
    "plt.pie(df.totalsalesYTD, labels=df.Name, autopct='%1.1f%%', colors=colours)\n",
    "central_circle = plt.Circle((0, 0), 0.4, color='white')\n",
    "fig = plt.gcf()\n",
    "fig.gca().add_artist(central_circle)\n",
    "plt.rc('font', size=12)\n",
    "plt.title(\"Revenue YTD\", fontsize=20)\n",
    "plt.show()"
   ]
  },
  {
   "attachments": {},
   "cell_type": "markdown",
   "metadata": {},
   "source": [
    "What are the regional sales in the best-performing country?"
   ]
  },
  {
   "cell_type": "code",
   "execution_count": null,
   "metadata": {},
   "outputs": [],
   "source": [
    "df1 = pd.read_sql_query(\"SELECT * FROM CountrySales WHERE CountryRegionCode = 'US' ORDER BY TotalSales DESC \", conn)\n",
    "print(df1)\n",
    "\n",
    "width=0.25\n",
    "x = np.arange(len(df1.Region))\n",
    "fig,ax = plt.subplots()\n",
    "rects1 = ax.bar(x - width/2, df1.SalesLastYear, width, label='Last Year Sale')\n",
    "rects2 = ax.bar(x + width/2 , df1.SalesYTD, width, label='Sale To Date',color='gray')\n",
    "ax.set_ylabel('Sale amount')\n",
    "plt.xlabel('Regions')\n",
    "ax.set_title('United States regional Sales')\n",
    "ax.set_xticks(x, df1.Region)\n",
    "ax.legend()\n",
    "fig.tight_layout()\n",
    "plt.show()\n",
    "\n",
    "colors = sns.color_palette('bright')[1:6]\n",
    "explode = (0.1, 0.1,0,0,0) \n",
    "fig1, ax1 = plt.subplots()\n",
    "ax1.pie(df1.TotalSales, explode=explode, labels=df1.Region,shadow=True,autopct='%1.1f%%')\n",
    "plt.title('Sales % of each region')\n",
    "plt.show()"
   ]
  },
  {
   "cell_type": "code",
   "execution_count": null,
   "metadata": {},
   "outputs": [],
   "source": [
    "df3=pd.read_sql_query('SELECT * FROM Sales_Category ORDER BY Region DESC,TotalSales DESC',conn)\n",
    "print(df3)\n",
    "sns.catplot(x='Region',y='TotalSales',kind='bar',data=df3, hue='Category')\n",
    "plt.title('Regional Sales by Product Category')\n",
    "plt.grid()\n",
    "plt.show()\n",
    "\n",
    "sns.pointplot(x = \"Region\", y = \"TotalSales\", data = df3)\n",
    "plt.grid()\n",
    "plt.show()"
   ]
  },
  {
   "cell_type": "code",
   "execution_count": null,
   "metadata": {},
   "outputs": [],
   "source": [
    "df4=pd.read_sql_query('SELECT * FROM Comparison',conn)\n",
    "print(df4)\n",
    "sns.relplot(x='TotalStores',y='TotalOrders',data=df4,size='TotalOrders',hue='Name',sizes=(100,1000))\n",
    "#plt.scatter(df.TotalStores, df.TotalOrders, s= df4.TotalOrders, c='#1f77b4')\n",
    "plt.xticks([100,150,200,250,300])\n",
    "plt.yticks([1000,2000,3000,4000,5000,6000,7000])\n",
    "plt.title('Number of stores vs Total Orders in each Region')\n",
    "plt.grid()\n",
    "plt.show()"
   ]
  },
  {
   "attachments": {},
   "cell_type": "markdown",
   "metadata": {},
   "source": [
    "What is the relationship between annual leave taken and bonus?"
   ]
  },
  {
   "cell_type": "code",
   "execution_count": null,
   "metadata": {},
   "outputs": [],
   "source": [
    "df5=pd.read_sql_query('SELECT * FROM AnnualLeave',conn)\n",
    "print(df5.head())\n",
    "plt.figure(figsize=(10,6))\n",
    "sns.histplot(data=df5, x=\"RVacationDays\",bins=5)\n",
    "plt.xlabel('Remaining AnnualLeave(Days)')\n",
    "plt.title(\"Employee's Remaining Annual Leaves\",fontsize=20)\n",
    "plt.show()\n",
    "plt.figure(figsize=(10,6))\n",
    "sns.histplot(data=df5, x=\"Bonus\")\n",
    "plt.title(\"Employees who are taking bonus\",fontsize=20)\n",
    "plt.show()"
   ]
  },
  {
   "cell_type": "code",
   "execution_count": null,
   "metadata": {},
   "outputs": [],
   "source": [
    "df6=pd.read_sql_query('SELECT * FROM AnnualLeave WHERE BONUS IS NULL ',conn)\n",
    "print(df6)\n",
    "plt.figure(figsize=(10,6))\n",
    "sns.histplot(data=df6, x=\"RVacationDays\",bins=5)\n",
    "plt.xlabel('AnnualLeave(Days)')\n",
    "plt.title(\"Employee's Remaining Annual Leave without Bonus\",fontsize=20)\n",
    "plt.show()\n",
    "\n",
    "df7=pd.read_sql_query('SELECT * FROM AnnualLeave WHERE BONUS IS NOT NULL ',conn)\n",
    "print(df7)\n",
    "plt.figure(figsize=(10,6))\n",
    "sns.histplot(data=df7, x=\"RVacationDays\",bins=5)\n",
    "plt.xlabel('AnnualLeave(Days)')\n",
    "plt.title(\"Employee's Remaining Annual Leave with Bonus\",fontsize=20)\n",
    "plt.show()"
   ]
  },
  {
   "cell_type": "code",
   "execution_count": null,
   "metadata": {},
   "outputs": [],
   "source": [
    "df2=pd.read_sql_query(\"SELECT * FROM Scatter\",conn)\n",
    "print(df2.head())\n",
    "df2.plot.scatter(y='RVacationDays',x='Bonus',color='orange')\n",
    "y,x = df2.RVacationDays, df2.Bonus\n",
    "m, b = np.polyfit(x, y, 1)\n",
    "plt.plot(x, m*x+b)\n",
    "plt.title('Bonus Vs Remaining Vacation Days',fontsize=20)\n",
    "plt.show()\n",
    "print(df2.Bonus.corr(df2.RVacationDays))\n",
    "\n",
    "df6=pd.read_sql_query('SELECT * FROM HourlyRate1',conn)\n",
    "print(df6.head())\n",
    "df6.plot.scatter(y='RVacationDays',x='Rate',color='orange')\n",
    "y,x = df6.RVacationDays, df6.Rate\n",
    "m, b = np.polyfit(x, y, 1)\n",
    "plt.plot(x, m*x+b)\n",
    "plt.title('Salary(Hourly Rate) Vs Remaining Vacation Days',fontsize=14)\n",
    "plt.show()\n",
    "print(df6.Rate.corr(df6.RVacationDays))"
   ]
  },
  {
   "attachments": {},
   "cell_type": "markdown",
   "metadata": {},
   "source": [
    "What is the relationship between sick leave and Job Title?"
   ]
  },
  {
   "cell_type": "code",
   "execution_count": null,
   "metadata": {},
   "outputs": [],
   "source": [
    "df=pd.read_sql_query('select JobTitle,OrganizationLevel,avg(SickLeaveHours) as SickLeaveHours from HumanResources.Employee where OrganizationLevel IS NOT NULL group by JobTitle,OrganizationLevel order by SickLeaveHours DESC;',conn)\n",
    "print(df)\n",
    "sns.set(rc={'figure.figsize':(15,12)})\n",
    "sns.barplot(y='JobTitle', x='SickLeaveHours',data=df)\n",
    "plt.xlim((0,70))\n",
    "plt.xlabel('SickLeaveHours')\n",
    "plt.ylabel('JobTitle')\n",
    "plt.xticks( fontsize=10)\n",
    "plt.yticks( fontsize=12)\n",
    "plt.title(\"Sick Leave Hours Vs Job Title\")\n",
    "plt.show()"
   ]
  },
  {
   "cell_type": "code",
   "execution_count": null,
   "metadata": {},
   "outputs": [],
   "source": [
    "df=pd.read_sql_query('select JobTitle,OrganizationLevel,avg(SickLeaveHours) as SickLeaveHours from HumanResources.Employee group by JobTitle,OrganizationLevel;',conn)\n",
    "sns.catplot(data=df,x='OrganizationLevel',y='SickLeaveHours',kind='bar',ci=None)\n",
    "plt.xlabel('Organization Level')\n",
    "plt.ylabel(' SickLeave Hours')\n",
    "plt.xticks(fontsize=10)\n",
    "plt.show()"
   ]
  },
  {
   "cell_type": "code",
   "execution_count": null,
   "metadata": {},
   "outputs": [],
   "source": [
    "df.plot.scatter(y='SickLeaveHours',x='OrganizationLevel',color='orange')\n",
    "sns.set(rc={'figure.figsize':(7,5)})\n",
    "sns.regplot(y=\"SickLeaveHours\",\n",
    "            x=\"OrganizationLevel\", \n",
    "            data=df);\n",
    "plt.title('Sick Leave Hours Vs Organizational Level')\n",
    "plt.show()\n",
    "print(df.OrganizationLevel.corr(df.SickLeaveHours))"
   ]
  },
  {
   "attachments": {},
   "cell_type": "markdown",
   "metadata": {},
   "source": [
    "What is the relationship between store trading duration and revenue?"
   ]
  },
  {
   "cell_type": "code",
   "execution_count": null,
   "metadata": {},
   "outputs": [],
   "source": [
    "df = pd.read_sql_query('SELECT YearOpened,(2019-YearOpened)AS Duration, AVG(AnnualRevenue) AS Revenue FROM Sales.vStoreWithDemographics GROUP BY (YearOpened)',conn) \n",
    "print(df)\n",
    "\n",
    "sns.set(rc={'figure.figsize':(15,6)})\n",
    "sns.lineplot(y='Revenue',x='YearOpened', data = df,color='black')\n",
    "plt.title('Avg revenue generated each year')\n",
    "plt.show()\n",
    "sns.set(rc={'figure.figsize':(7,5)})\n",
    "sns.regplot(y=\"Revenue\",\n",
    "            x=\"Duration\", \n",
    "            data=df,ci=None );\n",
    "plt.title('Store Opening Duration Vs Revenue')\n",
    "plt.show()\n",
    "\n",
    "print(df.Revenue.corr(df.Duration))\n"
   ]
  },
  {
   "attachments": {},
   "cell_type": "markdown",
   "metadata": {},
   "source": [
    "What is the relationship between the size of the stores, the number of employees, and revenue?"
   ]
  },
  {
   "cell_type": "code",
   "execution_count": null,
   "metadata": {},
   "outputs": [],
   "source": [
    "df = pd.read_sql_query('SELECT SquareFeet, NumberEmployees,AnnualRevenue FROM Sales.vStoreWithDemographics', conn)\n",
    "x1 =df.NumberEmployees\n",
    "y1 = df.AnnualRevenue\n",
    "x2= df.SquareFeet\n",
    "y2 = df.AnnualRevenue\n",
    "sns.set(rc={'figure.figsize':(10,8)})\n",
    "sns.scatterplot(x=x1, y=y1, data=df,size=x2,hue=x2,sizes=(100,1000))\n",
    "plt.xticks([0,20,40,60,80,100,120,140],fontsize=10)\n",
    "plt.yticks([30000,60000,90000,120000,150000,180000,210000,240000,270000,300000,330000],fontsize=10)\n",
    "plt.title('Revenue Vs Number of Employees Vs Size of the store',fontsize=11)\n",
    "plt.legend(fontsize=0)\n",
    "plt.show()\n",
    "print(df.corr())\n",
    "sns.set(rc={'figure.figsize':(8,5)})\n",
    "dataplot = sns.heatmap(df.corr(), cmap=\"YlGnBu\", annot=True)\n",
    "plt.title('Correlation Heatmap')\n",
    "plt.show()"
   ]
  }
 ],
 "metadata": {
  "kernelspec": {
   "display_name": "base",
   "language": "python",
   "name": "python3"
  },
  "language_info": {
   "name": "python",
   "version": "3.9.13 (main, Aug 25 2022, 23:51:50) [MSC v.1916 64 bit (AMD64)]"
  },
  "orig_nbformat": 4,
  "vscode": {
   "interpreter": {
    "hash": "277a3a9e074b45e01d893552e992ea7a5444d3443866f6ad4e40993b177dc278"
   }
  }
 },
 "nbformat": 4,
 "nbformat_minor": 2
}
